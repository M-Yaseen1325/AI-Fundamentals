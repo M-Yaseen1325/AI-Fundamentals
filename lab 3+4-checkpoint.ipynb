{
 "cells": [
  {
   "cell_type": "code",
   "execution_count": 5,
   "id": "535c83b9-8733-416c-9255-9d2940938c7e",
   "metadata": {},
   "outputs": [
    {
     "name": "stdout",
     "output_type": "stream",
     "text": [
      "1 ----- 1\n",
      "2 ----- 4\n",
      "3 ----- 9\n",
      "4 ----- 16\n",
      "5 ----- 25\n",
      "6 ----- 36\n",
      "7 ----- 49\n",
      "8 ----- 64\n",
      "9 ----- 81\n",
      "10 ----- 100\n",
      "11 ----- 121\n",
      "12 ----- 144\n",
      "13 ----- 169\n",
      "14 ----- 196\n",
      "15 ----- 225\n",
      "16 ----- 256\n",
      "17 ----- 289\n",
      "18 ----- 324\n",
      "19 ----- 361\n",
      "20 ----- 400\n"
     ]
    }
   ],
   "source": [
    "for i in range(1,21):\n",
    "    print (i, '-----', i**2)"
   ]
  },
  {
   "cell_type": "code",
   "execution_count": 7,
   "id": "74e6d2af-7edb-48f7-8c3c-2e0f8028ea85",
   "metadata": {},
   "outputs": [
    {
     "name": "stdout",
     "output_type": "stream",
     "text": [
      "1 copy-right issue\n",
      "2 copy-right issue\n",
      "3 copy-right issue\n",
      "4 copy-right issue\n",
      "5 copy-right issue\n",
      "6 copy-right issue\n",
      "7 copy-right issue\n",
      "8 copy-right issue\n",
      "9 copy-right issue\n",
      "10 copy-right issue\n",
      "11 copy-right issue\n",
      "12 copy-right issue\n",
      "13 copy-right issue\n",
      "14 copy-right issue\n",
      "15 copy-right issue\n",
      "16 copy-right issue\n",
      "17 copy-right issue\n",
      "18 copy-right issue\n",
      "19 copy-right issue\n",
      "20 copy-right issue\n",
      "21 copy-right issue\n",
      "22 copy-right issue\n",
      "23 copy-right issue\n",
      "24 copy-right issue\n",
      "25 copy-right issue\n",
      "26 copy-right issue\n",
      "27 copy-right issue\n",
      "28 copy-right issue\n",
      "29 copy-right issue\n",
      "30 copy-right issue\n",
      "31 copy-right issue\n",
      "32 copy-right issue\n",
      "33 copy-right issue\n",
      "34 copy-right issue\n",
      "35 copy-right issue\n",
      "36 copy-right issue\n",
      "37 copy-right issue\n",
      "38 copy-right issue\n",
      "39 copy-right issue\n",
      "40 copy-right issue\n",
      "41 copy-right issue\n",
      "42 copy-right issue\n",
      "43 copy-right issue\n",
      "44 copy-right issue\n",
      "45 copy-right issue\n",
      "46 copy-right issue\n",
      "47 copy-right issue\n",
      "48 copy-right issue\n",
      "49 copy-right issue\n",
      "50 copy-right issue\n",
      "51 copy-right issue\n",
      "52 copy-right issue\n",
      "53 copy-right issue\n",
      "54 copy-right issue\n",
      "55 copy-right issue\n",
      "56 copy-right issue\n",
      "57 copy-right issue\n",
      "58 copy-right issue\n",
      "59 copy-right issue\n",
      "60 copy-right issue\n",
      "61 copy-right issue\n",
      "62 copy-right issue\n",
      "63 copy-right issue\n",
      "64 copy-right issue\n",
      "65 copy-right issue\n",
      "66 copy-right issue\n",
      "67 copy-right issue\n",
      "68 copy-right issue\n",
      "69 copy-right issue\n",
      "70 copy-right issue\n",
      "71 copy-right issue\n",
      "72 copy-right issue\n",
      "73 copy-right issue\n",
      "74 copy-right issue\n",
      "75 copy-right issue\n",
      "76 copy-right issue\n",
      "77 copy-right issue\n",
      "78 copy-right issue\n",
      "79 copy-right issue\n",
      "80 copy-right issue\n",
      "81 copy-right issue\n",
      "82 copy-right issue\n",
      "83 copy-right issue\n",
      "84 copy-right issue\n",
      "85 copy-right issue\n",
      "86 copy-right issue\n",
      "87 copy-right issue\n",
      "88 copy-right issue\n",
      "89 copy-right issue\n",
      "90 copy-right issue\n",
      "91 copy-right issue\n",
      "92 copy-right issue\n",
      "93 copy-right issue\n",
      "94 copy-right issue\n",
      "95 copy-right issue\n",
      "96 copy-right issue\n",
      "97 copy-right issue\n",
      "98 copy-right issue\n",
      "99 copy-right issue\n",
      "100 copy-right issue\n"
     ]
    }
   ],
   "source": [
    "for i in range(1,101):\n",
    "    print(i, 'copy-right issue')"
   ]
  },
  {
   "cell_type": "code",
   "execution_count": 9,
   "id": "fd6b9109-92f5-4ba9-ae83-13861c497838",
   "metadata": {},
   "outputs": [
    {
     "name": "stdout",
     "output_type": "stream",
     "text": [
      "all four digit angstorm numbers are\n",
      "1634\n",
      "8208\n",
      "9474\n"
     ]
    }
   ],
   "source": [
    "n = 1000\n",
    "print('all four digit angstorm numbers are')\n",
    "while n<10000:\n",
    "    p1 = n%10\n",
    "    p2 = (n%100)//10\n",
    "    p3 = (n%1000)//100\n",
    "    p4 = n//1000\n",
    "    if p1**4 + p2**4 + p3**4 + p4**4 == n:\n",
    "        print(n)\n",
    "    n +=1"
   ]
  },
  {
   "cell_type": "code",
   "execution_count": 13,
   "id": "b80c5494-6709-4fc6-bd59-9e8ba9200947",
   "metadata": {},
   "outputs": [
    {
     "name": "stdout",
     "output_type": "stream",
     "text": [
      "8,11,14,17,20,23,26,29,32,35,38,41,44,47,50,53,56,59,62,65,68,71,74,77,80,83,86,89,"
     ]
    }
   ],
   "source": [
    "for i in range(8,90,3):\n",
    "    print(i, end=',')"
   ]
  },
  {
   "cell_type": "code",
   "execution_count": 23,
   "id": "c57c000f-c23d-463d-bf42-2cf658c8d155",
   "metadata": {},
   "outputs": [
    {
     "name": "stdin",
     "output_type": "stream",
     "text": [
      "how many times you want to print 6\n"
     ]
    },
    {
     "name": "stdout",
     "output_type": "stream",
     "text": [
      "akkay\n",
      "akkay\n",
      "akkay\n",
      "akkay\n",
      "akkay\n",
      "akkay\n"
     ]
    }
   ],
   "source": [
    "name = \"akkay\"\n",
    "n = int(input('how many times you want to print'))\n",
    "for i in range(n):\n",
    "    print(name)"
   ]
  },
  {
   "cell_type": "code",
   "execution_count": 25,
   "id": "e85ea01e-f868-4239-8e63-209afb95c039",
   "metadata": {},
   "outputs": [
    {
     "name": "stdin",
     "output_type": "stream",
     "text": [
      "enter height 5\n",
      "enter width 5\n"
     ]
    },
    {
     "name": "stdout",
     "output_type": "stream",
     "text": [
      "*****\n",
      "*****\n",
      "*****\n",
      "*****\n",
      "*****\n"
     ]
    }
   ],
   "source": [
    "height = int(input('enter height'))\n",
    "width = int(input('enter width'))\n",
    "for i in range(height):\n",
    "    print('*'*width)"
   ]
  },
  {
   "cell_type": "code",
   "execution_count": 31,
   "id": "80c270fd-94c5-49f9-9fe5-82964c6dc282",
   "metadata": {},
   "outputs": [
    {
     "name": "stdin",
     "output_type": "stream",
     "text": [
      "enter height 6\n"
     ]
    },
    {
     "name": "stdout",
     "output_type": "stream",
     "text": [
      "*\n",
      "**\n",
      "***\n",
      "****\n",
      "*****\n",
      "******\n"
     ]
    }
   ],
   "source": [
    "triangle= int(input('enter height'))\n",
    "for i in range(triangle):\n",
    "    print('*'*(i+1))"
   ]
  },
  {
   "cell_type": "code",
   "execution_count": 5,
   "id": "bcaf230d-a02b-4878-aa0d-4ff19db8f569",
   "metadata": {},
   "outputs": [
    {
     "name": "stdout",
     "output_type": "stream",
     "text": [
      "enter sides of triangle 3.0 and 4.0 \n",
      " hypoteneus 5.0\n",
      "enter sides of triangle 5.0 and 12.0 \n",
      " hypoteneus 13.0\n",
      "enter sides of triangle 8.0 and 15.0 \n",
      " hypoteneus 17.0\n"
     ]
    }
   ],
   "source": [
    "def hypotenuse(side1, side2):\n",
    "    return (side1 ** 2 + side2 ** 2) ** 0.5\n",
    "triangles = [\n",
    "    (3.0, 4.0),  # Expected hypotenuse: 5.0\n",
    "    (5.0, 12.0), # Expected hypotenuse: 13.0\n",
    "    (8.0, 15.0)  # Expected hypotenuse: 17.0\n",
    "]\n",
    "for side1, side2 in triangles:\n",
    "    print(f\"enter sides of triangle {side1} and {side2} \\n hypoteneus {hypotenuse(side1, side2)}\")\n"
   ]
  },
  {
   "cell_type": "code",
   "execution_count": 11,
   "id": "321735db-d85b-4854-a787-40837a6a5b02",
   "metadata": {},
   "outputs": [
    {
     "name": "stdout",
     "output_type": "stream",
     "text": [
      "enter first point(3.0, 4.0) \n",
      " enter second point (7.0, 1.0) \n",
      " ditance between (3.0, 4.0),(7.0, 1.0) is 5.00\n"
     ]
    }
   ],
   "source": [
    "def distance(x1, y1, x2, y2):\n",
    "    return ((x2 - x1) ** 2 + (y2 - y1) ** 2) ** 0.5\n",
    "point1 = (3.0, 4.0)\n",
    "point2 = (7.0, 1.0)\n",
    "\n",
    "dist = distance(point1[0], point1[1], point2[0], point2[1])\n",
    "print(f\"enter first point{point1} \\n enter second point {point2} \\n ditance between {point1},{point2} is {dist:.2f}\")\n"
   ]
  },
  {
   "cell_type": "code",
   "execution_count": null,
   "id": "346b23ae-d20d-4649-9f53-9add100db0a0",
   "metadata": {},
   "outputs": [],
   "source": []
  }
 ],
 "metadata": {
  "kernelspec": {
   "display_name": "Python 3 (ipykernel)",
   "language": "python",
   "name": "python3"
  },
  "language_info": {
   "codemirror_mode": {
    "name": "ipython",
    "version": 3
   },
   "file_extension": ".py",
   "mimetype": "text/x-python",
   "name": "python",
   "nbconvert_exporter": "python",
   "pygments_lexer": "ipython3",
   "version": "3.12.4"
  }
 },
 "nbformat": 4,
 "nbformat_minor": 5
}
