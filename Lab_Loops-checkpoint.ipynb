{
 "cells": [
  {
   "cell_type": "markdown",
   "id": "826995e9-4f12-49c7-9539-a132c2f3359d",
   "metadata": {},
   "source": [
    "## Loops"
   ]
  },
  {
   "cell_type": "markdown",
   "id": "1915fe6d-bec6-4660-803f-9f637a756289",
   "metadata": {},
   "source": [
    "### while loop"
   ]
  },
  {
   "cell_type": "markdown",
   "id": "32ac7d02-39e8-40ea-8586-75446a03a293",
   "metadata": {},
   "source": [
    "Using **while** loop we can execute a set of statements as long as a condition is true.\n",
    "\n",
    "eg:\n",
    "\n",
    "`while your_condition:`\n",
    "\n",
    "`    set_of_statements`\n",
    "\n",
    "`    condition update`"
   ]
  },
  {
   "cell_type": "code",
   "execution_count": 19,
   "id": "ef5717bc-5330-4d3a-bd19-6278faf06ddb",
   "metadata": {},
   "outputs": [
    {
     "name": "stdin",
     "output_type": "stream",
     "text": [
      "thus is 4\n",
      "thus is 20\n",
      "thus is 10\n"
     ]
    }
   ],
   "source": [
    "x = 0\n",
    "while x != 10:\n",
    "    x = int(input(\"thus is\"))\n",
    "              "
   ]
  },
  {
   "cell_type": "code",
   "execution_count": 15,
   "id": "118407db-5eeb-4301-abc1-25da0dbea2c0",
   "metadata": {},
   "outputs": [
    {
     "name": "stdout",
     "output_type": "stream",
     "text": [
      "0\n",
      "1\n",
      "2\n",
      "3\n",
      "4\n"
     ]
    }
   ],
   "source": [
    "i = 0\n",
    "while i <= 4:\n",
    "    print(i)\n",
    "    i = i + 1"
   ]
  },
  {
   "cell_type": "markdown",
   "id": "dd6f71a1-2786-4945-80f2-1f75da260479",
   "metadata": {},
   "source": [
    "### for Loop"
   ]
  },
  {
   "cell_type": "markdown",
   "id": "f3c904a5-f380-4926-96ed-98cae20ef36b",
   "metadata": {},
   "source": [
    "**for** loop is used for iterating over a sequence(list, tuple, dictionary, string)."
   ]
  },
  {
   "cell_type": "code",
   "execution_count": 12,
   "id": "71f74d0b-4296-4d74-bf75-7fc8bc42e754",
   "metadata": {},
   "outputs": [
    {
     "name": "stdout",
     "output_type": "stream",
     "text": [
      "apple\n",
      "banana\n",
      "cherry\n"
     ]
    }
   ],
   "source": [
    "fruits = [\"apple\", \"banana\", \"cherry\"]\n",
    "for x in fruits:\n",
    "  print(x)"
   ]
  },
  {
   "cell_type": "markdown",
   "id": "810c9ec6-b057-437c-b640-a6c7dde53841",
   "metadata": {},
   "source": [
    "# Practice Questions"
   ]
  },
  {
   "cell_type": "markdown",
   "id": "541d36ab-c5e5-4969-acd4-71d3a2cc4ea4",
   "metadata": {},
   "source": [
    "## Question 1:"
   ]
  },
  {
   "cell_type": "markdown",
   "id": "beda2281-f7d1-46df-818c-525a23bad185",
   "metadata": {},
   "source": [
    "**How many time would** \"Hello World\" **print?**\n",
    "\n",
    "`for i in range(4):`\n",
    "\r",
    "    \n",
    "`   print(\"Hello world\")`"
   ]
  },
  {
   "cell_type": "markdown",
   "id": "8da6bd07-bc5c-425c-8aad-63a2c8b4adbc",
   "metadata": {},
   "source": [
    "## Question 2:"
   ]
  },
  {
   "cell_type": "markdown",
   "id": "5ed4a1b9-0fd3-4826-9839-3f394cb26781",
   "metadata": {},
   "source": [
    "**Create function that adds only odd integers between 1 and 100.**"
   ]
  },
  {
   "cell_type": "code",
   "execution_count": null,
   "id": "557acc72-98a8-487e-84fb-fe15b36a9f80",
   "metadata": {},
   "outputs": [],
   "source": []
  }
 ],
 "metadata": {
  "kernelspec": {
   "display_name": "Python 3 (ipykernel)",
   "language": "python",
   "name": "python3"
  },
  "language_info": {
   "codemirror_mode": {
    "name": "ipython",
    "version": 3
   },
   "file_extension": ".py",
   "mimetype": "text/x-python",
   "name": "python",
   "nbconvert_exporter": "python",
   "pygments_lexer": "ipython3",
   "version": "3.11.7"
  }
 },
 "nbformat": 4,
 "nbformat_minor": 5
}
