{
 "cells": [
  {
   "cell_type": "code",
   "execution_count": 91,
   "id": "494eea47-6510-4957-a64c-5ece4441e387",
   "metadata": {},
   "outputs": [
    {
     "ename": "NameError",
     "evalue": "name 'calculate_distance' is not defined",
     "output_type": "error",
     "traceback": [
      "\u001b[1;31m---------------------------------------------------------------------------\u001b[0m",
      "\u001b[1;31mNameError\u001b[0m                                 Traceback (most recent call last)",
      "Cell \u001b[1;32mIn[91], line 14\u001b[0m\n\u001b[0;32m     12\u001b[0m         nearest_neighbor\u001b[38;5;241m.\u001b[39mappend(point1, array2[nearest_point])\n\u001b[0;32m     13\u001b[0m         \u001b[38;5;28;01mreturn\u001b[39;00m np\u001b[38;5;241m.\u001b[39marray(nearest_neighbors)\n\u001b[1;32m---> 14\u001b[0m reuslt \u001b[38;5;241m=\u001b[39m nearest_neighbors (Array1, Array2, norm_id)\n\u001b[0;32m     15\u001b[0m \u001b[38;5;28mprint\u001b[39m(result)\n\u001b[0;32m     16\u001b[0m Array1 \u001b[38;5;241m=\u001b[39m np\u001b[38;5;241m.\u001b[39marray([[\u001b[38;5;241m1\u001b[39m, \u001b[38;5;241m2\u001b[39m], [\u001b[38;5;241m3\u001b[39m, \u001b[38;5;241m4\u001b[39m]])\n",
      "Cell \u001b[1;32mIn[91], line 9\u001b[0m, in \u001b[0;36mnearest_neighbors\u001b[1;34m(Array1, Array2, norm_id)\u001b[0m\n\u001b[0;32m      7\u001b[0m     \u001b[38;5;28;01melse\u001b[39;00m: \u001b[38;5;28mprint\u001b[39m(\u001b[38;5;124m\"\u001b[39m\u001b[38;5;124mvalue error\u001b[39m\u001b[38;5;124m\"\u001b[39m)\n\u001b[0;32m      8\u001b[0m \u001b[38;5;28;01mfor\u001b[39;00m p1 \u001b[38;5;129;01min\u001b[39;00m Array1:\n\u001b[1;32m----> 9\u001b[0m     distances\u001b[38;5;241m=\u001b[39m[calculate_distance(point1, norm_id) \u001b[38;5;28;01mfor\u001b[39;00m point2 \u001b[38;5;129;01min\u001b[39;00m Array2]   \n\u001b[0;32m     10\u001b[0m     nearest_neighbors\u001b[38;5;241m=\u001b[39m []\n\u001b[0;32m     11\u001b[0m     nearest_point \u001b[38;5;241m=\u001b[39m np\u001b[38;5;241m.\u001b[39margmin(distance)\n",
      "\u001b[1;31mNameError\u001b[0m: name 'calculate_distance' is not defined"
     ]
    }
   ],
   "source": [
    "import numpy as np\n",
    "\n",
    "def nearest_neighbors(Array1, Array2, norm_id):\n",
    "    def calculated_distance(p1, p2, norm_id):\n",
    "        if norm_id == 2:\n",
    "            return np.sqrt(np.sum((p1 - p2)**2))\n",
    "        else: \n",
    "            print(\"value error\")\n",
    "    for p1 in Array1:\n",
    "        distances=[calculate_distance(point1, norm_id) for point2 in Array2]   \n",
    "        nearest_neighbors= []\n",
    "        nearest_point = np.argmin(distance)\n",
    "        nearest_neighbor.append(point1, array2[nearest_point])\n",
    "        return np.array(nearest_neighbors)\n",
    "reuslt = nearest_neighbors (Array1, Array2, norm_id)\n",
    "print(result)\n",
    "Array1 = np.array([[1, 2], [3, 4]])\n",
    "Array2 = np.array([1, 1])"
   ]
  },
  {
   "cell_type": "code",
   "execution_count": null,
   "id": "9fb83d95-cdfd-4565-91cb-442aa9ae8c91",
   "metadata": {},
   "outputs": [],
   "source": []
  }
 ],
 "metadata": {
  "kernelspec": {
   "display_name": "Python 3 (ipykernel)",
   "language": "python",
   "name": "python3"
  },
  "language_info": {
   "codemirror_mode": {
    "name": "ipython",
    "version": 3
   },
   "file_extension": ".py",
   "mimetype": "text/x-python",
   "name": "python",
   "nbconvert_exporter": "python",
   "pygments_lexer": "ipython3",
   "version": "3.12.4"
  }
 },
 "nbformat": 4,
 "nbformat_minor": 5
}
