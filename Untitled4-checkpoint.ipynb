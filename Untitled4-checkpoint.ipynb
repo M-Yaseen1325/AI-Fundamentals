{
 "cells": [
  {
   "cell_type": "code",
   "execution_count": 135,
   "id": "9694d178-3d9c-4be5-8c3d-004ae7d213bd",
   "metadata": {},
   "outputs": [],
   "source": [
    "def add(num1, num2):\n",
    "    return num1+num2\n",
    "    add(3,3)\n",
    "#add(\"hi\", \"akkay\")\n"
   ]
  },
  {
   "cell_type": "code",
   "execution_count": 136,
   "id": "3a0a5894-ad03-4dd6-bed4-a27c06a095f9",
   "metadata": {},
   "outputs": [
    {
     "name": "stdout",
     "output_type": "stream",
     "text": [
      "akkay\n",
      "12000\n"
     ]
    }
   ],
   "source": [
    "class account_1():\n",
    "    owner=\"akkay\"\n",
    "    balance=12000\n",
    "my_account=account_1()\n",
    "print (my_account.owner)\n",
    "print (my_account.balance)"
   ]
  },
  {
   "cell_type": "code",
   "execution_count": 137,
   "id": "1abfec42-ff9e-4db3-a34b-2e61cbec2973",
   "metadata": {},
   "outputs": [
    {
     "data": {
      "text/plain": [
       "'akkay'"
      ]
     },
     "execution_count": 137,
     "metadata": {},
     "output_type": "execute_result"
    }
   ],
   "source": [
    "class Account():\n",
    "    def __init__(self, owner, balance):\n",
    "        self.akib = owner\n",
    "        self.paisa = balance\n",
    "per1 = Account(owner=\"akkay\", balance=233)\n",
    "per1.akib"
   ]
  },
  {
   "cell_type": "code",
   "execution_count": 138,
   "id": "f40b566e-23c9-4e05-b305-8a3c1029ec92",
   "metadata": {},
   "outputs": [
    {
     "data": {
      "text/plain": [
       "443"
      ]
     },
     "execution_count": 138,
     "metadata": {},
     "output_type": "execute_result"
    }
   ],
   "source": [
    "per2 = Account(owner=\"asad\", balance=443)\n",
    "per2.akib\n",
    "per2.paisa"
   ]
  },
  {
   "cell_type": "code",
   "execution_count": 139,
   "id": "3aeecd6a-5606-430b-a46d-1e77e7f0e261",
   "metadata": {},
   "outputs": [
    {
     "data": {
      "text/plain": [
       "233"
      ]
     },
     "execution_count": 139,
     "metadata": {},
     "output_type": "execute_result"
    }
   ],
   "source": [
    "class bank_balance():\n",
    "    def __init__(self, owner, balance):\n",
    "        self.owner = owner\n",
    "        self.balance = balance\n",
    "        \n",
    "    def func(self, deposite):\n",
    "        self.balance += deposite\n",
    "        return self.balance\n",
    "\n",
    "per1 = bank_balance(\"akkay\", 233)\n",
    "per1.balance"
   ]
  },
  {
   "cell_type": "code",
   "execution_count": 140,
   "id": "f5bb4f80-e040-4bec-b0bd-5c9f9095bb83",
   "metadata": {},
   "outputs": [
    {
     "data": {
      "text/plain": [
       "433"
      ]
     },
     "execution_count": 140,
     "metadata": {},
     "output_type": "execute_result"
    }
   ],
   "source": [
    "per1.balance = per1.balance + 100\n",
    "per1.func(100)"
   ]
  },
  {
   "cell_type": "code",
   "execution_count": 141,
   "id": "9f765c33-a99f-44e1-b264-e07f7777579f",
   "metadata": {},
   "outputs": [
    {
     "ename": "KeyboardInterrupt",
     "evalue": "Interrupted by user",
     "output_type": "error",
     "traceback": [
      "\u001b[1;31m---------------------------------------------------------------------------\u001b[0m",
      "\u001b[1;31mKeyboardInterrupt\u001b[0m                         Traceback (most recent call last)",
      "Cell \u001b[1;32mIn[141], line 1\u001b[0m\n\u001b[1;32m----> 1\u001b[0m \u001b[38;5;28;01mclass\u001b[39;00m \u001b[38;5;21;01mRectangle\u001b[39;00m():\n\u001b[0;32m      2\u001b[0m     length \u001b[38;5;241m=\u001b[39m \u001b[38;5;28mfloat\u001b[39m(\u001b[38;5;28minput\u001b[39m(\u001b[38;5;124m\"\u001b[39m\u001b[38;5;124menter length\u001b[39m\u001b[38;5;124m\"\u001b[39m))\n\u001b[0;32m      3\u001b[0m     width \u001b[38;5;241m=\u001b[39m \u001b[38;5;28mfloat\u001b[39m(\u001b[38;5;28minput\u001b[39m(\u001b[38;5;124m\"\u001b[39m\u001b[38;5;124menter width\u001b[39m\u001b[38;5;124m\"\u001b[39m))\n",
      "Cell \u001b[1;32mIn[141], line 2\u001b[0m, in \u001b[0;36mRectangle\u001b[1;34m()\u001b[0m\n\u001b[0;32m      1\u001b[0m \u001b[38;5;28;01mclass\u001b[39;00m \u001b[38;5;21;01mRectangle\u001b[39;00m():\n\u001b[1;32m----> 2\u001b[0m     length \u001b[38;5;241m=\u001b[39m \u001b[38;5;28mfloat\u001b[39m(\u001b[38;5;28minput\u001b[39m(\u001b[38;5;124m\"\u001b[39m\u001b[38;5;124menter length\u001b[39m\u001b[38;5;124m\"\u001b[39m))\n\u001b[0;32m      3\u001b[0m     width \u001b[38;5;241m=\u001b[39m \u001b[38;5;28mfloat\u001b[39m(\u001b[38;5;28minput\u001b[39m(\u001b[38;5;124m\"\u001b[39m\u001b[38;5;124menter width\u001b[39m\u001b[38;5;124m\"\u001b[39m))\n\u001b[0;32m      4\u001b[0m     \u001b[38;5;28;01mdef\u001b[39;00m \u001b[38;5;21mproduct\u001b[39m(length, width):\n",
      "File \u001b[1;32m~\\anaconda3\\Lib\\site-packages\\ipykernel\\kernelbase.py:1262\u001b[0m, in \u001b[0;36mKernel.raw_input\u001b[1;34m(self, prompt)\u001b[0m\n\u001b[0;32m   1260\u001b[0m     msg \u001b[38;5;241m=\u001b[39m \u001b[38;5;124m\"\u001b[39m\u001b[38;5;124mraw_input was called, but this frontend does not support input requests.\u001b[39m\u001b[38;5;124m\"\u001b[39m\n\u001b[0;32m   1261\u001b[0m     \u001b[38;5;28;01mraise\u001b[39;00m StdinNotImplementedError(msg)\n\u001b[1;32m-> 1262\u001b[0m \u001b[38;5;28;01mreturn\u001b[39;00m \u001b[38;5;28mself\u001b[39m\u001b[38;5;241m.\u001b[39m_input_request(\n\u001b[0;32m   1263\u001b[0m     \u001b[38;5;28mstr\u001b[39m(prompt),\n\u001b[0;32m   1264\u001b[0m     \u001b[38;5;28mself\u001b[39m\u001b[38;5;241m.\u001b[39m_parent_ident[\u001b[38;5;124m\"\u001b[39m\u001b[38;5;124mshell\u001b[39m\u001b[38;5;124m\"\u001b[39m],\n\u001b[0;32m   1265\u001b[0m     \u001b[38;5;28mself\u001b[39m\u001b[38;5;241m.\u001b[39mget_parent(\u001b[38;5;124m\"\u001b[39m\u001b[38;5;124mshell\u001b[39m\u001b[38;5;124m\"\u001b[39m),\n\u001b[0;32m   1266\u001b[0m     password\u001b[38;5;241m=\u001b[39m\u001b[38;5;28;01mFalse\u001b[39;00m,\n\u001b[0;32m   1267\u001b[0m )\n",
      "File \u001b[1;32m~\\anaconda3\\Lib\\site-packages\\ipykernel\\kernelbase.py:1305\u001b[0m, in \u001b[0;36mKernel._input_request\u001b[1;34m(self, prompt, ident, parent, password)\u001b[0m\n\u001b[0;32m   1302\u001b[0m \u001b[38;5;28;01mexcept\u001b[39;00m \u001b[38;5;167;01mKeyboardInterrupt\u001b[39;00m:\n\u001b[0;32m   1303\u001b[0m     \u001b[38;5;66;03m# re-raise KeyboardInterrupt, to truncate traceback\u001b[39;00m\n\u001b[0;32m   1304\u001b[0m     msg \u001b[38;5;241m=\u001b[39m \u001b[38;5;124m\"\u001b[39m\u001b[38;5;124mInterrupted by user\u001b[39m\u001b[38;5;124m\"\u001b[39m\n\u001b[1;32m-> 1305\u001b[0m     \u001b[38;5;28;01mraise\u001b[39;00m \u001b[38;5;167;01mKeyboardInterrupt\u001b[39;00m(msg) \u001b[38;5;28;01mfrom\u001b[39;00m \u001b[38;5;28;01mNone\u001b[39;00m\n\u001b[0;32m   1306\u001b[0m \u001b[38;5;28;01mexcept\u001b[39;00m \u001b[38;5;167;01mException\u001b[39;00m:\n\u001b[0;32m   1307\u001b[0m     \u001b[38;5;28mself\u001b[39m\u001b[38;5;241m.\u001b[39mlog\u001b[38;5;241m.\u001b[39mwarning(\u001b[38;5;124m\"\u001b[39m\u001b[38;5;124mInvalid Message:\u001b[39m\u001b[38;5;124m\"\u001b[39m, exc_info\u001b[38;5;241m=\u001b[39m\u001b[38;5;28;01mTrue\u001b[39;00m)\n",
      "\u001b[1;31mKeyboardInterrupt\u001b[0m: Interrupted by user"
     ]
    }
   ],
   "source": [
    "class Rectangle():\n",
    "    length = float(input(\"enter length\"))\n",
    "    width = float(input(\"enter width\"))\n",
    "    def product(length, width):\n",
    "        return length*width"
   ]
  },
  {
   "cell_type": "code",
   "execution_count": null,
   "id": "4bae0780-543c-4fef-8911-4bcd8644b588",
   "metadata": {},
   "outputs": [],
   "source": [
    "import turtle\n",
    "\n",
    "# Set up the turtle\n",
    "my_turtle = turtle.Turtle()\n",
    "\n",
    "my_turtle.penup()\n",
    "my_turtle.forward(100)\n",
    "my_turtle.pendown()\n",
    "my_turtle.shape(\"turtle\")\n",
    "\n",
    "turtle.done()"
   ]
  },
  {
   "cell_type": "code",
   "execution_count": null,
   "id": "37f42346-6c5b-45dc-bf6d-d11294bf8c1a",
   "metadata": {},
   "outputs": [],
   "source": [
    "import turtle\n",
    "window = turtle.Screen()\n",
    "window.bgcolor(\"lightgreen\")\n",
    "tess = turtle.Turtle()\n",
    "tess.shape(\"turtle\")\n",
    "tess.color(\"blue\")\n",
    "tess.penup() # This is new\n",
    "size = 20\n",
    "for _ in range(30):\n",
    "    tess.stamp() # Leave an impression on the canvas\n",
    "    size = size +  1# Increase the size on every iteration\n",
    "    tess.forward(size) # Move tess along\n",
    "    tess.right(24)\n",
    "    \n",
    "window.mainloop()"
   ]
  },
  {
   "cell_type": "code",
   "execution_count": null,
   "id": "c4b0d5e5-7943-42c7-84c9-d005b13f94e9",
   "metadata": {},
   "outputs": [],
   "source": []
  },
  {
   "cell_type": "code",
   "execution_count": null,
   "id": "3041924d-894c-420d-b5d7-b156f9137a67",
   "metadata": {},
   "outputs": [],
   "source": [
    "class Rectangle:\n",
    "    def __init__(self, length, width):\n",
    "        self.length = length\n",
    "        self.width = width"
   ]
  },
  {
   "cell_type": "code",
   "execution_count": null,
   "id": "1f8edd24-9579-4a4d-acbc-7a0cbf2a98e9",
   "metadata": {},
   "outputs": [],
   "source": [
    "import numpy as np\n",
    "list=[[1, 1, 1], [1, 1, 1],[1, 1, 1]]\n",
    "matrice = np.array(list)\n",
    "matrice\n",
    "matrice [2][2] = 4\n",
    "matrice"
   ]
  },
  {
   "cell_type": "code",
   "execution_count": null,
   "id": "8a8f43b1-8f98-4d7c-b44a-2dcd8d48bc09",
   "metadata": {},
   "outputs": [],
   "source": [
    "matrice [2]"
   ]
  },
  {
   "cell_type": "code",
   "execution_count": null,
   "id": "b9ad0917-3830-4a38-8a64-d397578e479d",
   "metadata": {},
   "outputs": [],
   "source": [
    "x = int(input(\"enter your number\"))\n",
    "if 0 < x <10:\n",
    "    print(\"x is postive\")\n",
    "else:\n",
    "    print(\"x is negative\")"
   ]
  },
  {
   "cell_type": "code",
   "execution_count": null,
   "id": "f1e3309b-99e7-46d0-b65a-07f2eaff0c48",
   "metadata": {},
   "outputs": [],
   "source": [
    "age = float(input(\"input your age\"))\n",
    "if age >= 18:\n",
    "    print(\"you are applicable for driving license\")\n",
    "else:\n",
    "    print(\"you are too young to get your driving license\")"
   ]
  },
  {
   "cell_type": "code",
   "execution_count": null,
   "id": "a88b8636-cc11-4af7-9f80-088267fe2bf0",
   "metadata": {},
   "outputs": [],
   "source": [
    "import numpy as np\n",
    "array = np.array(2)\n",
    "print (array)\n"
   ]
  },
  {
   "cell_type": "code",
   "execution_count": null,
   "id": "b7c68ce8-b9a0-4748-baa1-e37e7cbdbc94",
   "metadata": {},
   "outputs": [],
   "source": [
    "import numpy as np\n",
    "list_array = np.array([1, 2, 3, 4])\n",
    "print (list_array)"
   ]
  },
  {
   "cell_type": "code",
   "execution_count": null,
   "id": "d961f206-f82d-48cf-92be-4c524949cbeb",
   "metadata": {},
   "outputs": [],
   "source": [
    "zero_array = np.zeros((3,3))\n",
    "print(zero_array)"
   ]
  },
  {
   "cell_type": "code",
   "execution_count": null,
   "id": "a23a625e-60f4-4985-aa95-9f125bdf923d",
   "metadata": {},
   "outputs": [],
   "source": [
    "ones_array = np.ones((3,3))\n",
    "print (ones_array)"
   ]
  },
  {
   "cell_type": "code",
   "execution_count": null,
   "id": "7d907abb-736f-4eb2-a29e-f6540dec038d",
   "metadata": {},
   "outputs": [],
   "source": [
    "ones_array = np.ones((2,4))\n",
    "print(ones_array)"
   ]
  },
  {
   "cell_type": "code",
   "execution_count": null,
   "id": "b7941565-5915-4bf5-9415-74990d211798",
   "metadata": {},
   "outputs": [],
   "source": [
    "array1 = np.array(range(10,50,10))\n",
    "print (array1)"
   ]
  },
  {
   "cell_type": "code",
   "execution_count": null,
   "id": "fbd8a410-c7a3-4d2f-bb7e-34bd6ec6d935",
   "metadata": {},
   "outputs": [],
   "source": [
    "arr1 = np.array([1, 2, 3, 4])\n",
    "arr2 = np.array([5, 6, 7, 8])\n",
    "sum_arr = arr1 + arr2\n",
    "print(sum_arr)"
   ]
  },
  {
   "cell_type": "code",
   "execution_count": null,
   "id": "893e314d-282a-44e8-86b6-abc451cfcaec",
   "metadata": {},
   "outputs": [],
   "source": [
    "print(sum_arr[3])"
   ]
  },
  {
   "cell_type": "code",
   "execution_count": null,
   "id": "f0606538-cbb6-43b4-bcee-ce61f3e2ffb8",
   "metadata": {},
   "outputs": [],
   "source": [
    "print (sum_arr[0:5])"
   ]
  },
  {
   "cell_type": "code",
   "execution_count": null,
   "id": "57c6e66a-9cf0-4d08-be30-ab638f4b09eb",
   "metadata": {},
   "outputs": [],
   "source": [
    "print (sum_arr[0:5:2])"
   ]
  },
  {
   "cell_type": "code",
   "execution_count": null,
   "id": "2ac05ef7-1e91-4715-b2b3-5c61a7a906e2",
   "metadata": {},
   "outputs": [],
   "source": [
    "np.linspace(10,50,10)"
   ]
  },
  {
   "cell_type": "code",
   "execution_count": null,
   "id": "e0856824-dce6-4bf6-b879-82e4eecdd96e",
   "metadata": {},
   "outputs": [],
   "source": [
    "task_arr = np.array(range(10,61,10))\n",
    "print(task_arr)"
   ]
  },
  {
   "cell_type": "code",
   "execution_count": null,
   "id": "0046d2e7-d1b0-4546-a053-2584213d1cd9",
   "metadata": {},
   "outputs": [],
   "source": [
    "print(task_arr[0:3])"
   ]
  },
  {
   "cell_type": "code",
   "execution_count": null,
   "id": "e41b8155-ad05-4327-b663-12b40f89e385",
   "metadata": {},
   "outputs": [],
   "source": [
    "print (task_arr[3:6])"
   ]
  },
  {
   "cell_type": "code",
   "execution_count": null,
   "id": "ae7293b0-27b1-4f3e-90be-1f63322b3ab3",
   "metadata": {},
   "outputs": [],
   "source": [
    "shape_arr = ([[1,2,3],[4,5,6]])\n",
    "print(shape_arr)"
   ]
  },
  {
   "cell_type": "code",
   "execution_count": null,
   "id": "60a2b5b1-6c1d-4ec3-b9c2-89729ca45021",
   "metadata": {},
   "outputs": [],
   "source": [
    "np.shape(shape_arr)"
   ]
  },
  {
   "cell_type": "code",
   "execution_count": null,
   "id": "80935762-d09b-4bda-bf1c-91d991397552",
   "metadata": {},
   "outputs": [],
   "source": [
    "np.sum(task_arr)"
   ]
  },
  {
   "cell_type": "code",
   "execution_count": null,
   "id": "788a4970-c8b7-432e-b22e-c571c6d6f836",
   "metadata": {},
   "outputs": [],
   "source": [
    "np.mean(task_arr)"
   ]
  },
  {
   "cell_type": "code",
   "execution_count": null,
   "id": "9a4a65b2-315a-4368-95af-b4d6822ae25f",
   "metadata": {},
   "outputs": [],
   "source": [
    "np.std(task_arr)"
   ]
  },
  {
   "cell_type": "code",
   "execution_count": 154,
   "id": "b7f68955-4167-49fd-b54b-b7c85f55c59d",
   "metadata": {},
   "outputs": [
    {
     "name": "stdout",
     "output_type": "stream",
     "text": [
      "[10 20 30 40 50]\n"
     ]
    }
   ],
   "source": [
    "tsk_arr = np.array(range(10,51,10))\n",
    "print (tsk_arr)"
   ]
  },
  {
   "cell_type": "code",
   "execution_count": 133,
   "id": "fd7edca8-4b60-42b1-8c10-2fb3437a241a",
   "metadata": {},
   "outputs": [
    {
     "data": {
      "text/plain": [
       "14.142135623730951"
      ]
     },
     "execution_count": 133,
     "metadata": {},
     "output_type": "execute_result"
    }
   ],
   "source": [
    "np.sum(tsk_arr)\n"
   ]
  },
  {
   "cell_type": "code",
   "execution_count": 156,
   "id": "327780c6-0564-4141-866d-bca2f95bb26c",
   "metadata": {},
   "outputs": [
    {
     "data": {
      "text/plain": [
       "30.0"
      ]
     },
     "execution_count": 156,
     "metadata": {},
     "output_type": "execute_result"
    }
   ],
   "source": [
    "np.mean(tsk_arr)"
   ]
  },
  {
   "cell_type": "code",
   "execution_count": 158,
   "id": "87ac4d51-f24e-4ee5-b27e-95bddc452516",
   "metadata": {},
   "outputs": [
    {
     "data": {
      "text/plain": [
       "14.142135623730951"
      ]
     },
     "execution_count": 158,
     "metadata": {},
     "output_type": "execute_result"
    }
   ],
   "source": [
    "np.std(tsk_arr)"
   ]
  },
  {
   "cell_type": "code",
   "execution_count": null,
   "id": "6c8a1802-a10c-4aa0-a70a-1861e4cac52f",
   "metadata": {},
   "outputs": [],
   "source": []
  },
  {
   "cell_type": "code",
   "execution_count": null,
   "id": "b307cfd4-2044-45c7-8db9-4a69b1f9d8ca",
   "metadata": {},
   "outputs": [],
   "source": []
  }
 ],
 "metadata": {
  "kernelspec": {
   "display_name": "Python 3 (ipykernel)",
   "language": "python",
   "name": "python3"
  },
  "language_info": {
   "codemirror_mode": {
    "name": "ipython",
    "version": 3
   },
   "file_extension": ".py",
   "mimetype": "text/x-python",
   "name": "python",
   "nbconvert_exporter": "python",
   "pygments_lexer": "ipython3",
   "version": "3.12.4"
  }
 },
 "nbformat": 4,
 "nbformat_minor": 5
}
