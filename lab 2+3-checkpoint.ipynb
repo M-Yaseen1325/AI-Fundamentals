{
 "cells": [
  {
   "cell_type": "markdown",
   "id": "1b22078e-0ffe-4a18-a724-d42c2f3993ee",
   "metadata": {},
   "source": [
    "# "
   ]
  },
  {
   "cell_type": "markdown",
   "id": "c94f53ba-a136-48d7-815b-6cbb234b3c5c",
   "metadata": {},
   "source": []
  },
  {
   "cell_type": "code",
   "execution_count": 21,
   "id": "9c6c1b41-dbdf-4cb3-90a6-dbf1c0f4d2e9",
   "metadata": {},
   "outputs": [
    {
     "name": "stdout",
     "output_type": "stream",
     "text": [
      "the rabbit is 3\n",
      "the rabbit is  3 years old\n",
      "12.5 is averge\n",
      "3 * 12.5\n",
      "12.5 * 3  is  920482.8132252117\n"
     ]
    }
   ],
   "source": [
    "x,y=3,12.5\n",
    "print(\"the rabbit is\",x)\n",
    "print(\"the rabbit is \",x,\"years old\")\n",
    "print(y, \"is averge\")\n",
    "print(x,\"*\",y)\n",
    "print(y,\"*\",x, \" is \", x**y)"
   ]
  },
  {
   "cell_type": "code",
   "execution_count": 35,
   "id": "92b77093-28ea-42af-b760-dae395ded4bf",
   "metadata": {},
   "outputs": [
    {
     "name": "stdout",
     "output_type": "stream",
     "text": [
      "number\tsqare\tcube\n",
      "0 \t 0 \t 0\n",
      "1 \t 1 \t 1\n",
      "2 \t 4 \t 8\n",
      "3 \t 9 \t 27\n",
      "4 \t 16 \t 64\n",
      "5 \t 25 \t 125\n",
      "6 \t 36 \t 216\n",
      "7 \t 49 \t 343\n",
      "8 \t 64 \t 512\n",
      "9 \t 81 \t 729\n"
     ]
    }
   ],
   "source": [
    "a,b,c,d,e,f,g,h,i,j=0,1,2,3,4,5,6,7,8,9\n",
    "print(\"number\\tsqare\\tcube\")\n",
    "print(a,\"\\t\",a**2,\"\\t\",a**3)\n",
    "print(b,\"\\t\",b**2,\"\\t\",b**3)\n",
    "print(c,\"\\t\",c**2,\"\\t\",c**3)\n",
    "print(d,\"\\t\",d**2,\"\\t\",d**3)\n",
    "print(e,\"\\t\",e**2,\"\\t\",e**3)\n",
    "print(f,\"\\t\",f**2,\"\\t\",f**3)\n",
    "print(g,\"\\t\",g**2,\"\\t\",g**3)\n",
    "print(h,\"\\t\",h**2,\"\\t\",h**3)\n",
    "print(i,\"\\t\",i**2,\"\\t\",i**3)\n",
    "print(j,\"\\t\",j**2,\"\\t\",j**3)"
   ]
  },
  {
   "cell_type": "code",
   "execution_count": 41,
   "id": "caea72ad-541a-45d2-8b22-ca5a6cc99e06",
   "metadata": {},
   "outputs": [
    {
     "name": "stdout",
     "output_type": "stream",
     "text": [
      "7 5\n"
     ]
    }
   ],
   "source": [
    "p,q=5,7\n",
    "p=int(p*q)\n",
    "q=int(p/q)\n",
    "p=int(p/q)\n",
    "print(p,q)"
   ]
  },
  {
   "cell_type": "code",
   "execution_count": 14,
   "id": "d230719d-ec47-4bc9-9cf9-112be5bd8506",
   "metadata": {},
   "outputs": [
    {
     "name": "stdin",
     "output_type": "stream",
     "text": [
      "enter your first number: 70\n",
      "enter your second number:  50\n"
     ]
    },
    {
     "name": "stdout",
     "output_type": "stream",
     "text": [
      "the sum of two numbers is:  120\n",
      "the product of two numbers is:  3500\n",
      "the division of two numbers is:  1.4\n",
      "the quotient of two numbers is:  20\n",
      "the remainder of two numbers is:  1\n",
      "the subtraction of two numbers is:  20\n"
     ]
    }
   ],
   "source": [
    "x=int(input(\"enter your first number:\"))\n",
    "y=int(input(\"enter your second number: \"))\n",
    "print(\"the sum of two numbers is: \", x+y)\n",
    "print(\"the product of two numbers is: \", x*y)\n",
    "print(\"the division of two numbers is: \", x/y)\n",
    "print(\"the quotient of two numbers is: \", x%y)\n",
    "print(\"the remainder of two numbers is: \", x//y)\n",
    "print(\"the subtraction of two numbers is: \",x-y)"
   ]
  },
  {
   "cell_type": "code",
   "execution_count": 1,
   "id": "84f6b2d7-de44-498b-b0e6-31873a76c2b6",
   "metadata": {},
   "outputs": [
    {
     "name": "stdout",
     "output_type": "stream",
     "text": [
      "HHHHH\n",
      "HHHH\n",
      "HHH\n",
      "HH\n",
      "H\n"
     ]
    }
   ],
   "source": [
    "print(\"HHHHH\\nHHHH\\nHHH\\nHH\\nH\")"
   ]
  },
  {
   "cell_type": "code",
   "execution_count": 3,
   "id": "af2b0839-943c-40e3-b87d-242242c19a00",
   "metadata": {},
   "outputs": [
    {
     "data": {
      "text/plain": [
       "5"
      ]
     },
     "execution_count": 3,
     "metadata": {},
     "output_type": "execute_result"
    }
   ],
   "source": [
    "12345%10"
   ]
  },
  {
   "cell_type": "code",
   "execution_count": 15,
   "id": "ff614001-bfbb-47c1-93f4-1d61fd6b333a",
   "metadata": {},
   "outputs": [
    {
     "name": "stdin",
     "output_type": "stream",
     "text": [
      "eneter your number:  76589\n"
     ]
    },
    {
     "name": "stdout",
     "output_type": "stream",
     "text": [
      "9 8 5 6 7\n"
     ]
    }
   ],
   "source": [
    "apao=int(input(\"eneter your number: \"))\n",
    "p1=apao%10\n",
    "p2=(apao%100)//10\n",
    "p3=(apao%1000)//100\n",
    "p4=(apao%10000)//1000\n",
    "p5=(apao%100000)//10000\n",
    "print(p1,p2,p3,p4,p5)"
   ]
  },
  {
   "cell_type": "code",
   "execution_count": 51,
   "id": "40dcba3b-ee93-4c5f-bb5b-6fece6e33d04",
   "metadata": {},
   "outputs": [
    {
     "name": "stdout",
     "output_type": "stream",
     "text": [
      "[1, 2, 'NOBODY', 3, 'ali', 'and', 2.3, 3.5]\n"
     ]
    }
   ],
   "source": [
    "A=[1,2,3,\"ali\",\"and\",2.3,3.5]\n",
    "A.insert(2,\"NOBODY\")\n",
    "A.append(\"last option\")\n",
    "A.pop()\n",
    "print (A)"
   ]
  },
  {
   "cell_type": "code",
   "execution_count": 55,
   "id": "ed43fd2d-d39f-448e-baa8-ce9ae6a7492a",
   "metadata": {},
   "outputs": [
    {
     "name": "stdout",
     "output_type": "stream",
     "text": [
      "[]\n"
     ]
    }
   ],
   "source": [
    "A.clear()\n",
    "print(A)"
   ]
  },
  {
   "cell_type": "code",
   "execution_count": 59,
   "id": "6931785b-820e-4edf-a02c-9a57fef6a6e1",
   "metadata": {},
   "outputs": [
    {
     "name": "stdout",
     "output_type": "stream",
     "text": [
      "[]\n"
     ]
    }
   ],
   "source": [
    "cup = []\n",
    "print(cup)"
   ]
  },
  {
   "cell_type": "code",
   "execution_count": 95,
   "id": "34420a73-31ec-4ef5-8cf5-ae3d69c08abd",
   "metadata": {},
   "outputs": [
    {
     "name": "stdout",
     "output_type": "stream",
     "text": [
      "4\n"
     ]
    }
   ],
   "source": [
    "b=[]\n",
    "A=[22,23,\"hello\",\"pop\"]\n",
    "print(len(A))\n",
    "del A[2]"
   ]
  },
  {
   "cell_type": "code",
   "execution_count": 85,
   "id": "593e84a3-0135-4d3d-8658-8d83dfdca555",
   "metadata": {},
   "outputs": [
    {
     "data": {
      "text/plain": [
       "[22, 23, 'hello', 'pop']"
      ]
     },
     "execution_count": 85,
     "metadata": {},
     "output_type": "execute_result"
    }
   ],
   "source": [
    "A"
   ]
  },
  {
   "cell_type": "code",
   "execution_count": 87,
   "id": "46a342c7-c7a4-42c6-a1f5-20523de75f98",
   "metadata": {},
   "outputs": [],
   "source": [
    "del[A]"
   ]
  },
  {
   "cell_type": "code",
   "execution_count": 110,
   "id": "aa9eb16e-148c-402a-be5d-ba21c4f3683c",
   "metadata": {},
   "outputs": [
    {
     "name": "stdout",
     "output_type": "stream",
     "text": [
      "*********      *          ***\n",
      "*\t*     ***        *    *\n",
      "*\t*    *****\n",
      "*\t*       *        *     *\n",
      "*********      *\n"
     ]
    }
   ],
   "source": [
    "print(\"*********      *          ***\\n*\\t*     ***        *    *\\n*\\t*    *****\\n*\\t*       *        *     *\\n*********      *\")"
   ]
  },
  {
   "cell_type": "code",
   "execution_count": 80,
   "id": "d8a9d819-c9d9-466f-9ac6-aeab4f72767d",
   "metadata": {},
   "outputs": [
    {
     "name": "stdin",
     "output_type": "stream",
     "text": [
      "enter your first number 12\n",
      "enter your second number 13\n",
      "enter your third number 14\n"
     ]
    },
    {
     "name": "stdout",
     "output_type": "stream",
     "text": [
      "[12, 13, 14]\n",
      "[12, 13, 14]\n",
      "not equal\n"
     ]
    }
   ],
   "source": [
    "x=int(input(\"enter your first number\"))\n",
    "y=int(input(\"enter your second number\"))\n",
    "z=int(input(\"enter your third number\"))\n",
    "A=[x,y,z]\n",
    "print()\n",
    "A.sort()\n",
    "if A[0]**2+A[1]**2==A[2]**2:\n",
    "    print(\"equal\")\n",
    "else:\n",
    "    print(\"not equal\")"
   ]
  },
  {
   "cell_type": "code",
   "execution_count": 193,
   "id": "f2fe5fdb-dcfb-415b-9e67-e9dc1c1d00af",
   "metadata": {},
   "outputs": [
    {
     "name": "stdout",
     "output_type": "stream",
     "text": [
      "*********      *         ***            *\n",
      "*\t*     ***      *     *       *     *\n",
      "*\t*    *****     *     *      *       *\n",
      "*\t*      *       *     *       *     *\n",
      "*********      *         ***            *\n"
     ]
    }
   ],
   "source": [
    "print(\"*********      *         ***            *\\n*\\t*     ***      *     *       *     *\\n*\\t*    *****     *     *      *       *\\n*\\t*      *       *     *       *     *\\n*********      *         ***            *\")"
   ]
  },
  {
   "cell_type": "code",
   "execution_count": 211,
   "id": "046f45b0-33fb-4089-bf90-55e291ed8ed9",
   "metadata": {},
   "outputs": [
    {
     "name": "stdout",
     "output_type": "stream",
     "text": [
      "{1, 2, 4, 'ali'}\n"
     ]
    }
   ],
   "source": [
    "m={1,2,3,4,'ali'}\n",
    "m.discard(3)\n",
    "print(m)"
   ]
  },
  {
   "cell_type": "code",
   "execution_count": 215,
   "id": "b3b39696-1ce4-4584-b1af-502edcbf2c26",
   "metadata": {},
   "outputs": [
    {
     "name": "stdout",
     "output_type": "stream",
     "text": [
      "{4, 'ali'}\n"
     ]
    }
   ],
   "source": [
    "m.pop()\n",
    "print(m)"
   ]
  },
  {
   "cell_type": "code",
   "execution_count": 5,
   "id": "884913d2-3c64-4086-8c1e-2388fdb2ce6d",
   "metadata": {},
   "outputs": [
    {
     "name": "stdout",
     "output_type": "stream",
     "text": [
      "['ali', 'hassan', 'kazim', 'zain', 'asghar', 'hussain']\n",
      "['ali', 'hassan', 'kazim', 'zain', 'asghar', 'hussain', 'sageer']\n",
      "['ali', 'asghar', 'hassan', 'hussain', 'kazim', 'sageer', 'zain']\n"
     ]
    },
    {
     "data": {
      "text/plain": [
       "6"
      ]
     },
     "execution_count": 5,
     "metadata": {},
     "output_type": "execute_result"
    }
   ],
   "source": [
    "list=['ali','hassan','kazim','zain','asghar','hussain']\n",
    "print(list)\n",
    "list.append(\"sageer\")\n",
    "print(list)\n",
    "list.sort()\n",
    "print(list)\n",
    "list.index(\"zain\")"
   ]
  },
  {
   "cell_type": "code",
   "execution_count": 23,
   "id": "133d9ad0-28f8-4cfc-84a3-bd3c22101f3d",
   "metadata": {},
   "outputs": [
    {
     "name": "stdout",
     "output_type": "stream",
     "text": [
      "{2, 3, 4, 5, 8}\n",
      "{3, 4, 5, 6, 8}\n",
      "{2, 3, 4, 5, 6, 8}\n",
      "{8, 3, 4, 5}\n",
      "{2}\n"
     ]
    }
   ],
   "source": [
    "set={2,3,4,5}\n",
    "_set={4,3,5,6}\n",
    "set.add(8)\n",
    "_set.add(8)\n",
    "print(set)\n",
    "print(_set)\n",
    "union=set.union(_set)\n",
    "intersection=set.intersection(_set)\n",
    "difference=set.difference(_set)\n",
    "print(union)\n",
    "print(intersection)\n",
    "print(difference)"
   ]
  },
  {
   "cell_type": "code",
   "execution_count": 8,
   "id": "42746a96-d3f4-48b1-b5b9-ab9267a11d98",
   "metadata": {},
   "outputs": [
    {
     "name": "stdout",
     "output_type": "stream",
     "text": [
      "hello world\n",
      "hello world\n",
      "hello world\n",
      "hello world\n"
     ]
    }
   ],
   "source": [
    "for i in range(4):\n",
    "    print (\"hello world\")"
   ]
  },
  {
   "cell_type": "code",
   "execution_count": 17,
   "id": "7f6ef6c7-a00f-4a61-8082-bc9ab847c34a",
   "metadata": {},
   "outputs": [
    {
     "name": "stdin",
     "output_type": "stream",
     "text": [
      "input your 1st Number 12\n",
      "input your 2nd Number 13\n",
      "input your 3rd Number 14\n"
     ]
    },
    {
     "name": "stdout",
     "output_type": "stream",
     "text": [
      "smallest is 12\n",
      "largest is  14\n"
     ]
    }
   ],
   "source": [
    "n1 = int(input(\"input your 1st Number\"))\n",
    "n2 = int(input(\"input your 2nd Number\"))\n",
    "n3 = int(input(\"input your 3rd Number\"))\n",
    "small = 0\n",
    "large = 0\n",
    "if n1<n2<n3 or n1<n3<n2:\n",
    "    small = n1\n",
    "if n2<n1<n3 or n2<n3<n1:\n",
    "    small = n2\n",
    "if n3<n1<n2 or n3<n2<n1:\n",
    "    small = n3\n",
    "if n1>n2>n3 or n1>n3>n2:\n",
    "    large = n1\n",
    "if n2>n1>n3 or n2>n3>n1:\n",
    "    large = n2\n",
    "if n3>n1>n2 or n3>n2>n1:\n",
    "    large = n3\n",
    "print(\"smallest is\", small)\n",
    "print(\"largest is \", large)"
   ]
  },
  {
   "cell_type": "code",
   "execution_count": 23,
   "id": "f1dcf166-2183-405b-baa2-aa33a92f1617",
   "metadata": {},
   "outputs": [
    {
     "name": "stdin",
     "output_type": "stream",
     "text": [
      "input your 1st Number 5\n",
      "input your 2nd Number 3\n",
      "input your 3rd Number 6\n"
     ]
    },
    {
     "name": "stdout",
     "output_type": "stream",
     "text": [
      "not sides of right angle triangle\n"
     ]
    }
   ],
   "source": [
    "n_1 = int(input(\"input your 1st Number\"))\n",
    "n_2 = int(input(\"input your 2nd Number\"))\n",
    "n_3 = int(input(\"input your 3rd Number\"))\n",
    "if n_1**2 == n_2**2 + n_3**2 or n_2**2 == n_1**2 + n_3**2 or n_3**2 == n_2**2 + n_1**2:\n",
    "    print(\"sides of right angle triangle\")\n",
    "else:\n",
    "    print(\"not sides of right angle triangle\")"
   ]
  },
  {
   "cell_type": "code",
   "execution_count": 37,
   "id": "9c136427-5df0-46cf-8769-326d89275c08",
   "metadata": {},
   "outputs": [
    {
     "name": "stdin",
     "output_type": "stream",
     "text": [
      "enter your score 0.5\n"
     ]
    },
    {
     "name": "stdout",
     "output_type": "stream",
     "text": [
      "Fail\n"
     ]
    }
   ],
   "source": [
    "score = float(input(\"enter your score\"))\n",
    "if 1>score>=0.9:\n",
    "    print(\"A grade\")\n",
    "if 1>score>=0.9:\n",
    "    print(\"A grade\")\n",
    "if 1>score>=0.8:\n",
    "    print(\"B grade\")\n",
    "if 1>score>=0.7:\n",
    "    print(\"C grade\")\n",
    "if 1>score<0.6:\n",
    "    print(\"Fail\")\n",
    "else:\n",
    "    print(\"error\")"
   ]
  },
  {
   "cell_type": "code",
   "execution_count": 39,
   "id": "93485d26-7cd6-45dc-9b56-f6f91b87942b",
   "metadata": {},
   "outputs": [
    {
     "name": "stdin",
     "output_type": "stream",
     "text": [
      "How many values do you want to enter?  5\n",
      "Enter value 1:  33\n",
      "Enter value 2:  22\n",
      "Enter value 3:  11\n",
      "Enter value 4:  44\n",
      "Enter value 5:  55\n"
     ]
    },
    {
     "name": "stdout",
     "output_type": "stream",
     "text": [
      "Sum of the values: 165.0\n",
      "Smallest value: 11.0\n"
     ]
    }
   ],
   "source": [
    "total_values = int(input(\"How many values do you want to enter? \"))\n",
    "values = []\n",
    "for i in range(total_values):\n",
    "    value = float(input(f\"Enter value {i + 1}: \"))\n",
    "    values.append(value)\n",
    "total_sum = sum(values)\n",
    "smallest_value = min(values)\n",
    "print(f\"Sum of the values: {total_sum}\")\n",
    "print(f\"Smallest value: {smallest_value}\")"
   ]
  },
  {
   "cell_type": "code",
   "execution_count": 57,
   "id": "8a5521a7-4152-4959-8233-1b8bb4b4a732",
   "metadata": {},
   "outputs": [
    {
     "name": "stdout",
     "output_type": "stream",
     "text": [
      "number\tfactorial\n",
      "1 \t 1\n",
      "2 \t 2\n",
      "3 \t 6\n",
      "4 \t 24\n",
      "5 \t 120\n"
     ]
    }
   ],
   "source": [
    "print(\"number\\tfactorial\")\n",
    "def factorial(n):\n",
    "    if n < 0:\n",
    "        return \"Factorial is not defined for negative numbers\"\n",
    "    result = 1\n",
    "    while n > 1:\n",
    "        result *= n\n",
    "        n -= 1\n",
    "    return result\n",
    "number = 1\n",
    "while number <= 5:\n",
    "    print(f\"{number} \\t {factorial(number)}\")\n",
    "    number += 1"
   ]
  },
  {
   "cell_type": "code",
   "execution_count": 59,
   "id": "1e1b4dab-f922-4857-9d95-1f77308c4938",
   "metadata": {},
   "outputs": [
    {
     "name": "stdout",
     "output_type": "stream",
     "text": [
      "i have guess a number between 1 to 10\n"
     ]
    },
    {
     "name": "stdin",
     "output_type": "stream",
     "text": [
      "guess 5\n"
     ]
    },
    {
     "name": "stdout",
     "output_type": "stream",
     "text": [
      "try again\n"
     ]
    },
    {
     "name": "stdin",
     "output_type": "stream",
     "text": [
      "guess 3\n"
     ]
    },
    {
     "name": "stdout",
     "output_type": "stream",
     "text": [
      "try again\n"
     ]
    },
    {
     "name": "stdin",
     "output_type": "stream",
     "text": [
      "guess 2\n"
     ]
    },
    {
     "name": "stdout",
     "output_type": "stream",
     "text": [
      "try again\n"
     ]
    },
    {
     "name": "stdin",
     "output_type": "stream",
     "text": [
      "guess 8\n"
     ]
    },
    {
     "name": "stdout",
     "output_type": "stream",
     "text": [
      "tha is correct, you guessed it\n"
     ]
    }
   ],
   "source": [
    "random = 8\n",
    "guess = 2\n",
    "print('i have guess a number between 1 to 10')\n",
    "while guess != random:\n",
    "    guess = int(input('guess'))\n",
    "    if guess == random:\n",
    "        print('tha is correct, you guessed it')\n",
    "    else:\n",
    "        print('try again')"
   ]
  },
  {
   "cell_type": "code",
   "execution_count": 67,
   "id": "7c688af7-6f77-416c-8f37-3b9c9efac63e",
   "metadata": {},
   "outputs": [
    {
     "name": "stdin",
     "output_type": "stream",
     "text": [
      "enter your 1st number 25\n",
      "enter your 2nd number 10\n"
     ]
    },
    {
     "name": "stdout",
     "output_type": "stream",
     "text": [
      "the GCD of given number 25 and 10 is 5\n"
     ]
    }
   ],
   "source": [
    "n1 = int(input('enter your 1st number'))\n",
    "n2 = int(input('enter your 2nd number'))\n",
    "if n1<n2:\n",
    "    small, large = n1, n2\n",
    "elif n1>n2:\n",
    "    small, large = n2, n1\n",
    "while small != 0:\n",
    "    r = large % small\n",
    "    large, small = small,r\n",
    "print('the GCD of given number', n1, 'and', n2, 'is', large)"
   ]
  },
  {
   "cell_type": "code",
   "execution_count": 76,
   "id": "bee321de-c748-4dda-9b04-5eeafa6dabb3",
   "metadata": {},
   "outputs": [
    {
     "name": "stdin",
     "output_type": "stream",
     "text": [
      "enter your number 8\n"
     ]
    },
    {
     "name": "stdout",
     "output_type": "stream",
     "text": [
      "is not prime\n"
     ]
    }
   ],
   "source": [
    "n = int(input('enter your number'))\n",
    "i = 2\n",
    "prime = True\n",
    "while i<n:\n",
    "    if n%2 == 0:\n",
    "        prime = False\n",
    "        break\n",
    "    i  += 1\n",
    "if prime:\n",
    "        print('is prime')\n",
    "else:\n",
    "        print('is not prime')"
   ]
  },
  {
   "cell_type": "code",
   "execution_count": null,
   "id": "306bc3bc-e6e5-4d08-83cd-d9a63bc6bad4",
   "metadata": {},
   "outputs": [],
   "source": [
    "p = 1000\n",
    "print('all four digit angstorm numbers are')\n",
    "while n<10000:\n",
    "    p1 = n%10\n",
    "    p2 = (n%100)//10\n",
    "    p3 = (n%1000)//100\n",
    "    p4 = n//1000\n",
    "    if p1**4 + p2**4 + p3**4 + p4**4 == n:\n",
    "        print(n)"
   ]
  },
  {
   "cell_type": "code",
   "execution_count": null,
   "id": "bbc2319c-84e6-4bcc-9063-64636fbe5f4d",
   "metadata": {},
   "outputs": [],
   "source": [
    "for i in range(1,101):\n",
    "    print(i, 'copy-right issue')"
   ]
  },
  {
   "cell_type": "code",
   "execution_count": null,
   "id": "14dfb409-fd7a-4b38-aac5-d5f5555e6c04",
   "metadata": {},
   "outputs": [],
   "source": []
  },
  {
   "cell_type": "code",
   "execution_count": 11,
   "id": "52089b7b-3cb0-414e-8c3b-a0c984220ca2",
   "metadata": {},
   "outputs": [
    {
     "ename": "SyntaxError",
     "evalue": "'return' outside function (806777579.py, line 3)",
     "output_type": "error",
     "traceback": [
      "\u001b[1;36m  Cell \u001b[1;32mIn[11], line 3\u001b[1;36m\u001b[0m\n\u001b[1;33m    return (m**2)\u001b[0m\n\u001b[1;37m    ^\u001b[0m\n\u001b[1;31mSyntaxError\u001b[0m\u001b[1;31m:\u001b[0m 'return' outside function\n"
     ]
    }
   ],
   "source": [
    "m=[1,4,5,6]\n",
    "while i in m:\n",
    "    return (m**2)"
   ]
  },
  {
   "cell_type": "code",
   "execution_count": null,
   "id": "3aa37d14-a49b-4494-8c78-c861fe682669",
   "metadata": {},
   "outputs": [],
   "source": []
  },
  {
   "cell_type": "code",
   "execution_count": null,
   "id": "5d9d1be8-ba1f-4ace-84c9-730f49efb53e",
   "metadata": {},
   "outputs": [],
   "source": []
  },
  {
   "cell_type": "code",
   "execution_count": null,
   "id": "42f9bf31-cd3c-498f-95c9-980a6786eebf",
   "metadata": {},
   "outputs": [],
   "source": []
  },
  {
   "cell_type": "code",
   "execution_count": null,
   "id": "f1041477-59d3-4889-bdc4-ffaaa6dc830a",
   "metadata": {},
   "outputs": [],
   "source": []
  },
  {
   "cell_type": "code",
   "execution_count": 1,
   "id": "b3f78c94-46be-4e9a-bce8-dd0f5d6a798a",
   "metadata": {},
   "outputs": [
    {
     "data": {
      "text/plain": [
       "nan"
      ]
     },
     "execution_count": 1,
     "metadata": {},
     "output_type": "execute_result"
    }
   ],
   "source": [
    "import numpy as np\n",
    "np.nan"
   ]
  },
  {
   "cell_type": "code",
   "execution_count": null,
   "id": "4c33bc18-4df9-4bb7-a5c4-a118e7c0d138",
   "metadata": {},
   "outputs": [],
   "source": []
  },
  {
   "cell_type": "code",
   "execution_count": 3,
   "id": "20dd02fe-dbde-487c-aaa7-50eca87745b2",
   "metadata": {},
   "outputs": [
    {
     "data": {
      "text/plain": [
       "float"
      ]
     },
     "execution_count": 3,
     "metadata": {},
     "output_type": "execute_result"
    }
   ],
   "source": [
    "type(np.nan)"
   ]
  },
  {
   "cell_type": "code",
   "execution_count": 5,
   "id": "d1fac3b7-df4f-491d-8d7d-7d76825f360a",
   "metadata": {},
   "outputs": [
    {
     "name": "stdout",
     "output_type": "stream",
     "text": [
      "True\n"
     ]
    }
   ],
   "source": [
    "import numpy as np\n",
    "x = np.nan\n",
    "print(np.isnan(x))  # Output: True"
   ]
  },
  {
   "cell_type": "code",
   "execution_count": 7,
   "id": "a7bbcb0a-3a0c-4999-9672-f8681083ada3",
   "metadata": {},
   "outputs": [
    {
     "name": "stdout",
     "output_type": "stream",
     "text": [
      "[ 1.  2. nan  4.  5.]\n"
     ]
    }
   ],
   "source": [
    "import numpy as np\n",
    "array = np.array([1, 2, np.nan, 4, 5])\n",
    "print(array)"
   ]
  },
  {
   "cell_type": "code",
   "execution_count": 9,
   "id": "e538f0a8-7c7b-4c37-9f18-4d3291ec1c37",
   "metadata": {},
   "outputs": [
    {
     "name": "stdout",
     "output_type": "stream",
     "text": [
      "nan\n"
     ]
    }
   ],
   "source": [
    "import numpy as np\n",
    "array = np.array([1, 2, np.nan, 4])\n",
    "print(np.sum(array))  # Output: nan"
   ]
  },
  {
   "cell_type": "code",
   "execution_count": null,
   "id": "16f30aea-d9ab-4dd7-8ea1-a06a6dea6e96",
   "metadata": {},
   "outputs": [],
   "source": []
  }
 ],
 "metadata": {
  "kernelspec": {
   "display_name": "Python 3 (ipykernel)",
   "language": "python",
   "name": "python3"
  },
  "language_info": {
   "codemirror_mode": {
    "name": "ipython",
    "version": 3
   },
   "file_extension": ".py",
   "mimetype": "text/x-python",
   "name": "python",
   "nbconvert_exporter": "python",
   "pygments_lexer": "ipython3",
   "version": "3.12.4"
  }
 },
 "nbformat": 4,
 "nbformat_minor": 5
}
