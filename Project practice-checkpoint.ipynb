{
 "cells": [
  {
   "cell_type": "code",
   "execution_count": 7,
   "id": "37d04b5a-786c-4d30-ade2-967122eef591",
   "metadata": {},
   "outputs": [
    {
     "ename": "SyntaxError",
     "evalue": "invalid syntax (1223384314.py, line 3)",
     "output_type": "error",
     "traceback": [
      "\u001b[1;36m  Cell \u001b[1;32mIn[7], line 3\u001b[1;36m\u001b[0m\n\u001b[1;33m    def eu_dis([1], [2]:\u001b[0m\n\u001b[1;37m               ^\u001b[0m\n\u001b[1;31mSyntaxError\u001b[0m\u001b[1;31m:\u001b[0m invalid syntax\n"
     ]
    }
   ],
   "source": [
    "array_1= [(1,2), (3,4), (5,6)]\n",
    "array_2= [(2,3),(7,3),(7,2),(4,2)]\n",
    "def eu_dis([1], [2]:\n",
    "    return np.linalg.norm(array_1 - array_2)"
   ]
  },
  {
   "cell_type": "code",
   "execution_count": 7,
   "id": "e1d9cc28-7522-40e8-87d4-3b63e4fa9570",
   "metadata": {},
   "outputs": [
    {
     "name": "stdout",
     "output_type": "stream",
     "text": [
      "(5, 6)\n"
     ]
    }
   ],
   "source": [
    "print(array_1[2])"
   ]
  },
  {
   "cell_type": "code",
   "execution_count": 11,
   "id": "f46dbff2-b150-48c2-9cf3-ad98d38a9a68",
   "metadata": {},
   "outputs": [
    {
     "name": "stdout",
     "output_type": "stream",
     "text": [
      "[array([4, 2]), array([4, 2]), array([7, 8])]\n"
     ]
    }
   ],
   "source": [
    "import numpy as np\n",
    "\n",
    "def euclidean_distance(point1, point2):\n",
    "    return np.linalg.norm(point1 - point2)\n",
    "\n",
    "def find_nearest_points(array1, array2):\n",
    "    nearest_points = []\n",
    "    \n",
    "    for point1 in array1:\n",
    "        min_distance = float('inf')\n",
    "        nearest_point = None\n",
    "        \n",
    "        for point2 in array2:\n",
    "            distance = euclidean_distance(point1, point2)\n",
    "            if distance < min_distance:\n",
    "                min_distance = distance\n",
    "                nearest_point = point2\n",
    "                \n",
    "        nearest_points.append(nearest_point)\n",
    "    \n",
    "    return nearest_points\n",
    "\n",
    "# Example usage\n",
    "array1 = np.array([(1,2), (3,4), (5,6)])\n",
    "array2 = np.array([(6,2), (7,8), (4,2)])\n",
    "\n",
    "nearest_points = find_nearest_points(array1, array2)\n",
    "print(nearest_points)"
   ]
  },
  {
   "cell_type": "code",
   "execution_count": 9,
   "id": "2e74969d-908c-4892-9bff-aee6288c0def",
   "metadata": {},
   "outputs": [
    {
     "name": "stdout",
     "output_type": "stream",
     "text": [
      "Closest pairs:\n",
      "[[[1 2]\n",
      "  [1 1]]\n",
      "\n",
      " [[3 4]\n",
      "  [3 3]]]\n"
     ]
    }
   ],
   "source": [
    "import numpy as np\n",
    "\n",
    "def nearest_neighbors(Array1, Array2, norm_id):\n",
    "    def calculate_distance(p1, p2, norm_id):\n",
    "        if norm_id == 1:\n",
    "            return np.sum(np.abs(p1 - p2))  # Manhattan Distance\n",
    "            raise ValueError(\"Unsupported norm identifier\")\n",
    "\n",
    "    closest_pairs = []\n",
    "    for point1 in Array1:\n",
    "        distances = [calculate_distance(point1, point2, norm_id) for point2 in Array2]\n",
    "        min_index = np.argmin(distances)\n",
    "        closest_pairs.append((point1, Array2[min_index]))\n",
    "        return np.array(closest_pairs)\n",
    "Array1 = np.array([[1, 2], [3, 4]])\n",
    "Array2 = np.array([[1, 1], [2, 2], [3, 3]])\n",
    "norm_id = 1\n",
    "closest_pairs = nearest_neighbors(Array1, Array2, norm_id)\n",
    "print(\"Closest pairs:\")\n",
    "print(closest_pairs)\n"
   ]
  },
  {
   "cell_type": "code",
   "execution_count": null,
   "id": "8cfe286f-6a88-4e70-bca2-5870cb469ef0",
   "metadata": {},
   "outputs": [],
   "source": []
  }
 ],
 "metadata": {
  "kernelspec": {
   "display_name": "Python 3 (ipykernel)",
   "language": "python",
   "name": "python3"
  },
  "language_info": {
   "codemirror_mode": {
    "name": "ipython",
    "version": 3
   },
   "file_extension": ".py",
   "mimetype": "text/x-python",
   "name": "python",
   "nbconvert_exporter": "python",
   "pygments_lexer": "ipython3",
   "version": "3.12.4"
  }
 },
 "nbformat": 4,
 "nbformat_minor": 5
}
