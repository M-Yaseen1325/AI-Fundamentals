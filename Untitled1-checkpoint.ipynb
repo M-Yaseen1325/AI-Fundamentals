{
 "cells": [
  {
   "cell_type": "code",
   "execution_count": 21,
   "id": "9c6c1b41-dbdf-4cb3-90a6-dbf1c0f4d2e9",
   "metadata": {},
   "outputs": [
    {
     "name": "stdout",
     "output_type": "stream",
     "text": [
      "the rabbit is 3\n",
      "the rabbit is  3 years old\n",
      "12.5 is averge\n",
      "3 * 12.5\n",
      "12.5 * 3  is  920482.8132252117\n"
     ]
    }
   ],
   "source": [
    "x,y=3,12.5\n",
    "print(\"the rabbit is\",x)\n",
    "print(\"the rabbit is \",x,\"years old\")\n",
    "print(y, \"is averge\")\n",
    "print(x,\"*\",y)\n",
    "print(y,\"*\",x, \" is \", x**y)"
   ]
  },
  {
   "cell_type": "code",
   "execution_count": 35,
   "id": "92b77093-28ea-42af-b760-dae395ded4bf",
   "metadata": {},
   "outputs": [
    {
     "name": "stdout",
     "output_type": "stream",
     "text": [
      "number\tsqare\tcube\n",
      "0 \t 0 \t 0\n",
      "1 \t 1 \t 1\n",
      "2 \t 4 \t 8\n",
      "3 \t 9 \t 27\n",
      "4 \t 16 \t 64\n",
      "5 \t 25 \t 125\n",
      "6 \t 36 \t 216\n",
      "7 \t 49 \t 343\n",
      "8 \t 64 \t 512\n",
      "9 \t 81 \t 729\n"
     ]
    }
   ],
   "source": [
    "a,b,c,d,e,f,g,h,i,j=0,1,2,3,4,5,6,7,8,9\n",
    "print(\"number\\tsqare\\tcube\")\n",
    "print(a,\"\\t\",a**2,\"\\t\",a**3)\n",
    "print(b,\"\\t\",b**2,\"\\t\",b**3)\n",
    "print(c,\"\\t\",c**2,\"\\t\",c**3)\n",
    "print(d,\"\\t\",d**2,\"\\t\",d**3)\n",
    "print(e,\"\\t\",e**2,\"\\t\",e**3)\n",
    "print(f,\"\\t\",f**2,\"\\t\",f**3)\n",
    "print(g,\"\\t\",g**2,\"\\t\",g**3)\n",
    "print(h,\"\\t\",h**2,\"\\t\",h**3)\n",
    "print(i,\"\\t\",i**2,\"\\t\",i**3)\n",
    "print(j,\"\\t\",j**2,\"\\t\",j**3)"
   ]
  },
  {
   "cell_type": "code",
   "execution_count": 41,
   "id": "caea72ad-541a-45d2-8b22-ca5a6cc99e06",
   "metadata": {},
   "outputs": [
    {
     "name": "stdout",
     "output_type": "stream",
     "text": [
      "7 5\n"
     ]
    }
   ],
   "source": [
    "p,q=5,7\n",
    "p=int(p*q)\n",
    "q=int(p/q)\n",
    "p=int(p/q)\n",
    "print(p,q)"
   ]
  },
  {
   "cell_type": "code",
   "execution_count": null,
   "id": "d230719d-ec47-4bc9-9cf9-112be5bd8506",
   "metadata": {},
   "outputs": [],
   "source": []
  }
 ],
 "metadata": {
  "kernelspec": {
   "display_name": "Python 3 (ipykernel)",
   "language": "python",
   "name": "python3"
  },
  "language_info": {
   "codemirror_mode": {
    "name": "ipython",
    "version": 3
   },
   "file_extension": ".py",
   "mimetype": "text/x-python",
   "name": "python",
   "nbconvert_exporter": "python",
   "pygments_lexer": "ipython3",
   "version": "3.12.4"
  }
 },
 "nbformat": 4,
 "nbformat_minor": 5
}
