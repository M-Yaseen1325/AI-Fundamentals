{
 "cells": [
  {
   "cell_type": "code",
   "execution_count": 3,
   "id": "11e9c508-450a-49fd-97ae-c27e62d03978",
   "metadata": {},
   "outputs": [
    {
     "name": "stdout",
     "output_type": "stream",
     "text": [
      "Count is: 0\n",
      "Count is: 1\n",
      "Count is: 2\n",
      "Count is: 3\n",
      "Count is: 4\n",
      "Count is: 5\n"
     ]
    }
   ],
   "source": [
    "count = 0\n",
    "while count <= 5:\n",
    "    print(\"Count is:\", count)\n",
    "    count += 1"
   ]
  },
  {
   "cell_type": "raw",
   "id": "77f332fd-6e3f-4e84-9268-77375ad559e7",
   "metadata": {},
   "source": []
  },
  {
   "cell_type": "code",
   "execution_count": 55,
   "id": "6c4fd008-885b-4058-a65c-2fe1d5a06b21",
   "metadata": {},
   "outputs": [
    {
     "name": "stdout",
     "output_type": "stream",
     "text": [
      "counter value is: 0\n",
      "counter value is: 1\n",
      "counter value is: 2\n",
      "counter value is: 3\n",
      "counter value is: 4\n",
      "ali\n"
     ]
    }
   ],
   "source": [
    "counter = 0\n",
    "while True:\n",
    "    print (\"counter value is:\", counter)\n",
    "    counter+= 1\n",
    "    if counter ==5:\n",
    "        print(\"ali\")\n",
    "        break\n",
    "\n"
   ]
  },
  {
   "cell_type": "code",
   "execution_count": 83,
   "id": "c68e06ac-3786-4ef0-a10d-4f5386dc1dd5",
   "metadata": {},
   "outputs": [
    {
     "data": {
      "text/plain": [
       "8"
      ]
     },
     "execution_count": 83,
     "metadata": {},
     "output_type": "execute_result"
    }
   ],
   "source": [
    "import random\n",
    "random.randint(1,10)"
   ]
  },
  {
   "cell_type": "code",
   "execution_count": 69,
   "id": "3d9ee519-e2f8-41cb-b92d-a945ed8833c3",
   "metadata": {},
   "outputs": [
    {
     "name": "stdout",
     "output_type": "stream",
     "text": [
      "1.2246467991473532e-16\n",
      "-1.0\n",
      "3.141592653589793\n",
      "4.0\n"
     ]
    }
   ],
   "source": [
    "pi=22/7\n",
    "import math\n",
    "print(math.sin(3.141592653589793))\n",
    "print(math.cos(3.141592653589793))\n",
    "print(math.pi)\n",
    "print (math.sqrt(16))"
   ]
  },
  {
   "cell_type": "code",
   "execution_count": 119,
   "id": "2299ceff-632b-4a00-99f1-a6f212950524",
   "metadata": {},
   "outputs": [
    {
     "data": {
      "text/plain": [
       "4.903877283562772"
      ]
     },
     "execution_count": 119,
     "metadata": {},
     "output_type": "execute_result"
    }
   ],
   "source": [
    "random.uniform(5.0,4.9)"
   ]
  },
  {
   "cell_type": "code",
   "execution_count": 95,
   "id": "a5af63d4-8457-40a5-b3a8-fc3c5708f627",
   "metadata": {},
   "outputs": [
    {
     "data": {
      "text/plain": [
       "2"
      ]
     },
     "execution_count": 95,
     "metadata": {},
     "output_type": "execute_result"
    }
   ],
   "source": [
    "random.choice([1,2,3.0,4,5.5])"
   ]
  },
  {
   "cell_type": "code",
   "execution_count": 103,
   "id": "5eebe724-97fd-4bc9-b815-4c07e935005d",
   "metadata": {},
   "outputs": [
    {
     "data": {
      "text/plain": [
       "3"
      ]
     },
     "execution_count": 103,
     "metadata": {},
     "output_type": "execute_result"
    }
   ],
   "source": [
    "import math\n",
    "math.ceil(2.1)"
   ]
  },
  {
   "cell_type": "code",
   "execution_count": 135,
   "id": "f789708e-31e3-4acd-9efd-d2ffdda56892",
   "metadata": {},
   "outputs": [
    {
     "data": {
      "text/plain": [
       "'w'"
      ]
     },
     "execution_count": 135,
     "metadata": {},
     "output_type": "execute_result"
    }
   ],
   "source": [
    "random.choice(\"zyxw\")"
   ]
  },
  {
   "cell_type": "code",
   "execution_count": 149,
   "id": "ab1d992b-bdc1-49a2-836c-5ce6cfbc2b32",
   "metadata": {},
   "outputs": [
    {
     "data": {
      "text/plain": [
       "3.141592653589793"
      ]
     },
     "execution_count": 149,
     "metadata": {},
     "output_type": "execute_result"
    }
   ],
   "source": [
    "math.pi"
   ]
  },
  {
   "cell_type": "code",
   "execution_count": 152,
   "id": "16605dd5-add9-4859-baad-e995eacead32",
   "metadata": {},
   "outputs": [
    {
     "data": {
      "text/plain": [
       "False"
      ]
     },
     "execution_count": 152,
     "metadata": {},
     "output_type": "execute_result"
    }
   ],
   "source": [
    "53==True"
   ]
  },
  {
   "cell_type": "code",
   "execution_count": 154,
   "id": "017cf7a9-efc7-4306-99e3-1e9483b356f1",
   "metadata": {},
   "outputs": [
    {
     "data": {
      "text/plain": [
       "True"
      ]
     },
     "execution_count": 154,
     "metadata": {},
     "output_type": "execute_result"
    }
   ],
   "source": [
    "pi==22/7"
   ]
  },
  {
   "cell_type": "code",
   "execution_count": 156,
   "id": "ec2258f6-cb8a-419b-a8d1-c63998cf7212",
   "metadata": {},
   "outputs": [
    {
     "data": {
      "text/plain": [
       "3.142857142857143"
      ]
     },
     "execution_count": 156,
     "metadata": {},
     "output_type": "execute_result"
    }
   ],
   "source": [
    "pi"
   ]
  },
  {
   "cell_type": "code",
   "execution_count": 164,
   "id": "163b4426-9ede-47f0-88e4-d83d2a0b1f96",
   "metadata": {},
   "outputs": [
    {
     "data": {
      "text/plain": [
       "4"
      ]
     },
     "execution_count": 164,
     "metadata": {},
     "output_type": "execute_result"
    }
   ],
   "source": [
    "math.ceil(pi)"
   ]
  },
  {
   "cell_type": "code",
   "execution_count": 170,
   "id": "5bea8749-8d0c-439c-9da5-a331d6fbbfa1",
   "metadata": {},
   "outputs": [
    {
     "data": {
      "text/plain": [
       "4"
      ]
     },
     "execution_count": 170,
     "metadata": {},
     "output_type": "execute_result"
    }
   ],
   "source": [
    "pi"
   ]
  },
  {
   "cell_type": "code",
   "execution_count": 172,
   "id": "66b9eba8-1ce9-4e20-9865-a9e1d1d610b8",
   "metadata": {},
   "outputs": [
    {
     "data": {
      "text/plain": [
       "2.0"
      ]
     },
     "execution_count": 172,
     "metadata": {},
     "output_type": "execute_result"
    }
   ],
   "source": [
    "math.sqrt(4)"
   ]
  },
  {
   "cell_type": "code",
   "execution_count": 184,
   "id": "fcf5e333-4085-4b41-bb35-480bb6c52ce7",
   "metadata": {},
   "outputs": [
    {
     "data": {
      "text/plain": [
       "5.0990195135927845"
      ]
     },
     "execution_count": 184,
     "metadata": {},
     "output_type": "execute_result"
    }
   ],
   "source": [
    "math.dist([3,0], [4,5])"
   ]
  },
  {
   "cell_type": "code",
   "execution_count": 3,
   "id": "67185c4c-1079-4cdd-8e44-10f6dc7f5c36",
   "metadata": {},
   "outputs": [
    {
     "name": "stdout",
     "output_type": "stream",
     "text": [
      "Akkay 27\n"
     ]
    }
   ],
   "source": [
    "class my_class():\n",
    "    name = \"Akkay\"\n",
    "    age= 27\n",
    "s1= my_class()\n",
    "print(s1.name, s1.age)"
   ]
  },
  {
   "cell_type": "code",
   "execution_count": null,
   "id": "fb5c2972-400c-422e-9602-e8bcaf0923aa",
   "metadata": {},
   "outputs": [],
   "source": [
    "def add(a, b):\n",
    "    sum = a + "
   ]
  },
  {
   "cell_type": "code",
   "execution_count": 77,
   "id": "5ff53da0-5f81-4f05-92e9-59db07313817",
   "metadata": {},
   "outputs": [],
   "source": [
    "class Student():\n",
    "    def __init__ (self, name_1, age_1):  #constructor __init__\n",
    "        self.name = name_1\n",
    "        self.age = age_1"
   ]
  },
  {
   "cell_type": "code",
   "execution_count": 99,
   "id": "e7132cce-f84c-43b0-baeb-b28c18ff2309",
   "metadata": {},
   "outputs": [
    {
     "data": {
      "text/plain": [
       "27"
      ]
     },
     "execution_count": 99,
     "metadata": {},
     "output_type": "execute_result"
    }
   ],
   "source": [
    "student_1 = Student(name_1=\"Akkay\" , age_1= 27)\n",
    "student_1.age"
   ]
  },
  {
   "cell_type": "code",
   "execution_count": 69,
   "id": "0e05594a-0485-4cf6-9a64-3c5fa00f2a52",
   "metadata": {},
   "outputs": [],
   "source": [
    "class bank():\n",
    "    def __init__ (self, owner, balance=0):\n",
    "        self.owner= owner\n",
    "        self.balance= balance"
   ]
  },
  {
   "cell_type": "code",
   "execution_count": 103,
   "id": "fd9e3486-1577-4276-8815-c34d2ea2ebc5",
   "metadata": {},
   "outputs": [
    {
     "data": {
      "text/plain": [
       "'Akkay'"
      ]
     },
     "execution_count": 103,
     "metadata": {},
     "output_type": "execute_result"
    }
   ],
   "source": [
    "owner_1 = bank(owner=\"Akkay\", balance = 123)\n",
    "owner_1.balance\n",
    "owner_1.owner"
   ]
  },
  {
   "cell_type": "code",
   "execution_count": 167,
   "id": "5a819e20-76da-46ee-9423-357edecd74e4",
   "metadata": {},
   "outputs": [],
   "source": [
    "class Bank():\n",
    "    def __init__ (self, owner, balance=0):\n",
    "        self.owner= owner\n",
    "        self.balance= balance\n",
    "    def deposite(self, amount):\n",
    "        self.balance = self.balance + amount\n",
    "        return self.balance"
   ]
  },
  {
   "cell_type": "code",
   "execution_count": 169,
   "id": "4c00ceb5-1746-4ccf-b485-ebfd8fe55fa6",
   "metadata": {},
   "outputs": [],
   "source": [
    "owner_1 = Bank(owner=\"Akkay\", balance= 500)"
   ]
  },
  {
   "cell_type": "code",
   "execution_count": 171,
   "id": "9ab97d2c-8a20-404a-b2bc-36334599800f",
   "metadata": {},
   "outputs": [
    {
     "data": {
      "text/plain": [
       "580"
      ]
     },
     "execution_count": 171,
     "metadata": {},
     "output_type": "execute_result"
    }
   ],
   "source": [
    "owner_1.deposite(amount=80)"
   ]
  },
  {
   "cell_type": "code",
   "execution_count": null,
   "id": "10436c22-ff72-4162-b17e-2720a2955a17",
   "metadata": {},
   "outputs": [],
   "source": []
  }
 ],
 "metadata": {
  "kernelspec": {
   "display_name": "Python 3 (ipykernel)",
   "language": "python",
   "name": "python3"
  },
  "language_info": {
   "codemirror_mode": {
    "name": "ipython",
    "version": 3
   },
   "file_extension": ".py",
   "mimetype": "text/x-python",
   "name": "python",
   "nbconvert_exporter": "python",
   "pygments_lexer": "ipython3",
   "version": "3.12.4"
  }
 },
 "nbformat": 4,
 "nbformat_minor": 5
}
